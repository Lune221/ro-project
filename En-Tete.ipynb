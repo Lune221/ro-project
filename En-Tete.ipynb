{
 "cells": [
  {
   "cell_type": "markdown",
   "metadata": {},
   "source": [
    "<div><img src=\"assets/chemin.jpg\" align=\"center\" width=\"400\" height=\"500\"></img></div><br></br>"
   ]
  },
  {
   "cell_type": "markdown",
   "metadata": {},
   "source": [
    "<hr><center><h1>Projet de Recherches Opérationnelles</h1></center><hr>"
   ]
  },
  {
   "cell_type": "markdown",
   "metadata": {},
   "source": [
    "<div  class=\"alert alert-info\" style=\"margin-top: 20px\">\n",
    "    <center><h2><u> Membres du groupe </u></h2></center><br>\n",
    "    <ol>\n",
    "        <li> ALIOUNE SARR </li>\n",
    "        <li> PAPA OMAR DIOP </li>\n",
    "    </ol>\n",
    "</div>\n",
    "\n"
   ]
  }
 ],
 "metadata": {
  "kernelspec": {
   "display_name": "Python 3",
   "language": "python",
   "name": "python3"
  },
  "language_info": {
   "codemirror_mode": {
    "name": "ipython",
    "version": 3
   },
   "file_extension": ".py",
   "mimetype": "text/x-python",
   "name": "python",
   "nbconvert_exporter": "python",
   "pygments_lexer": "ipython3",
   "version": "3.8.3"
  }
 },
 "nbformat": 4,
 "nbformat_minor": 4
}
