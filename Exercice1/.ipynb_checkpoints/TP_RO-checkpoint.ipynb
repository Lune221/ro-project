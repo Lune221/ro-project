{
 "cells": [
  {
   "cell_type": "markdown",
   "metadata": {},
   "source": [
    "<h2><u>Question 1:</u></h2><br></br>Implementation d'un graphe non orienté\n"
   ]
  },
  {
   "cell_type": "code",
   "execution_count": 2,
   "metadata": {},
   "outputs": [
    {
     "name": "stdout",
     "output_type": "stream",
     "text": [
      "( 1 ,  2 )\n",
      "( 1 ,  3 )\n",
      "( 2 ,  3 )\n",
      "( 2 ,  1 )\n",
      "( 3 ,  1 )\n"
     ]
    }
   ],
   "source": [
    "class Graph:\n",
    "    # Constructor\n",
    "    graph_dict={}\n",
    "    \n",
    "    def add_edge(self,node,neighbour):  \n",
    "        if node not in self.graph_dict:\n",
    "            self.graph_dict[node]=[neighbour]\n",
    "        else:\n",
    "            self.graph_dict[node].append(neighbour)\n",
    "            \n",
    "    def printGraph(self):\n",
    "        for node in self.graph_dict:\n",
    "            for neighbour in self.graph_dict[node]:\n",
    "                print(\"(\",node,\", \",neighbour,\")\")\n",
    "                \n",
    "# initialiser du graphe à partir de la liste d'arêtes donnée\n",
    "graph = Graph()\n",
    "graph.add_edge('1', '2')\n",
    "graph.add_edge('1', '3')\n",
    "graph.add_edge('2', '3')\n",
    "graph.add_edge('2', '1')\n",
    "graph.add_edge('3', '1')\n",
    "          \n",
    "graph.printGraph()"
   ]
  },
  {
   "cell_type": "markdown",
   "metadata": {},
   "source": [
    "<br></br>Implementation d'un graphe non orienté et pondéré"
   ]
  },
  {
   "cell_type": "code",
   "execution_count": 1,
   "metadata": {},
   "outputs": [
    {
     "name": "stdout",
     "output_type": "stream",
     "text": [
      "( a , b,   7)\n",
      "( a , c,   9)\n",
      "( b , a,   7)\n",
      "( b , c,  10)\n",
      "( c , a,   9)\n",
      "( c , b,  10)\n"
     ]
    }
   ],
   "source": [
    "class Sommet:\n",
    "    def __init__(self, node):\n",
    "        self.id = node     #initialiser un id pour chaque sommet\n",
    "        self.adjacent = {} #initialiser un dictionnaire pour tous ses voisins\n",
    "\n",
    "    # methode pour l'ajout d'un voisin\n",
    "    def add_neighbor(self, neighbor, weight=0):\n",
    "        self.adjacent[neighbor] = weight\n",
    "\n",
    "    # recuperation de tous les voisins\n",
    "    def get_connections(self):\n",
    "        return self.adjacent.keys()  \n",
    "\n",
    "    #recuperation  de l'id du sommet\n",
    "    def get_id(self):\n",
    "        return self.id\n",
    "\n",
    "    # Recuperation du poids relatif par rapport à son voisin\n",
    "    def get_weight(self, neighbor):\n",
    "        return self.adjacent[neighbor]\n",
    "\n",
    "class Graph:\n",
    "    def __init__(self):\n",
    "        self.vert_dict = {}\n",
    "        self.num_vertices = 0\n",
    "\n",
    "    def __iter__(self):\n",
    "        return iter(self.vert_dict.values())\n",
    "\n",
    "    def add_sommet(self, node):\n",
    "        self.num_vertices = self.num_vertices + 1\n",
    "        new_sommet = Sommet(node)\n",
    "        self.vert_dict[node] = new_sommet\n",
    "        return new_sommet\n",
    "\n",
    "    def add_edge(self, frm, to, cost = 0):\n",
    "        if frm not in self.vert_dict:\n",
    "            self.add_vertex(frm)\n",
    "        if to not in self.vert_dict:\n",
    "            self.add_sommet(to)\n",
    "\n",
    "        self.vert_dict[frm].add_neighbor(self.vert_dict[to], cost)\n",
    "        self.vert_dict[to].add_neighbor(self.vert_dict[frm], cost)\n",
    "\n",
    "\n",
    "graph = Graph()\n",
    "graph.add_sommet('a')\n",
    "graph.add_sommet('b')\n",
    "graph.add_sommet('c')\n",
    "graph.add_edge('a', 'b', 7)  \n",
    "graph.add_edge('a', 'c', 9)\n",
    "graph.add_edge('b', 'c', 10)\n",
    "\n",
    "for v in graph:\n",
    "    for w in v.get_connections():\n",
    "        vid = v.get_id()\n",
    "        wid = w.get_id()\n",
    "        print ('( %s , %s, %3d)'  % (vid, wid, v.get_weight(w)))"
   ]
  },
  {
   "cell_type": "markdown",
   "metadata": {},
   "source": [
    "<b>Complexité Algorithmique:</b> La complexité de cet algorithme dépend de l'implémentation du graphe (ici par\n",
    "listes d'adjacence), mais aussi de la façon de gérer l'ensemble des sommets. On suppose que le graphe possède n sommets\n",
    "et m arcs. Si on utilise les listes d'adjacence, l'algorithme sera en O(n^2)."
   ]
  },
  {
   "cell_type": "markdown",
   "metadata": {},
   "source": [
    "<h2><u>Question 3:</u></h2><br></br>Comment modifier ces implementations pour représenter un graphe orienté\n"
   ]
  },
  {
   "cell_type": "code",
   "execution_count": 3,
   "metadata": {},
   "outputs": [
    {
     "name": "stdout",
     "output_type": "stream",
     "text": [
      "(0 -> 1) \n",
      "(1 -> 2) \n",
      "(2 -> 0) (2 -> 1) \n",
      "(3 -> 2) \n",
      "(4 -> 5) \n",
      "(5 -> 4) \n"
     ]
    }
   ],
   "source": [
    "# Creation d'un object (class) pour les arretes\n",
    "class Edge:\n",
    "    def __init__(self, src, dest):\n",
    "        self.src = src\n",
    "        self.dest = dest\n",
    " \n",
    "# class to represent a graph object\n",
    "class Graph:\n",
    "    # Constructor\n",
    "    def __init__(self, edges, N):\n",
    "        # allouer de la mémoire pour la liste de contiguïté\n",
    "        self.adj = [[] for _ in range(N)]\n",
    " \n",
    "        # ajouter des arêtes au graphe non orienté\n",
    "        for current in edges:\n",
    "            # allouer le noeud dans la liste de contiguïté de src à destination\n",
    "            self.adj[current.src].append(current.dest)\n",
    " \n",
    " \n",
    "    # affichage de la liste de contiguïté représentation du graphique\n",
    "    def printGraph(self):\n",
    "        for src in range(len(self.adj)):\n",
    "            # affiche le sommet courant et tous ses sommets voisins\n",
    "            for dest in self.adj[src]:\n",
    "                print(f\"({src} -> {dest}) \", end=\"\")\n",
    "            print()\n",
    "\n",
    "# Arêtes de notre graphe orienté\n",
    "edges = [Edge(0, 1), Edge(1, 2), Edge(2, 0), Edge(2, 1), Edge(3, 2), Edge(4, 5), Edge(5, 4)]\n",
    " \n",
    "# Nombre de sommets\n",
    "N = len(edges) - 1\n",
    " \n",
    "# initialiser le graphe à partir de la liste d'arêtes donnée\n",
    "graph = Graph(edges, N)\n",
    " \n",
    "# Affichage\n",
    "graph.printGraph()"
   ]
  },
  {
   "cell_type": "markdown",
   "metadata": {},
   "source": [
    "<h2><u>Question 4:</u></h2><br></br>Implementez une methode permettant d'afficher un graphe non oriente et un graphe oriente\n"
   ]
  },
  {
   "cell_type": "markdown",
   "metadata": {},
   "source": [
    "### Graphe non oriente"
   ]
  },
  {
   "cell_type": "code",
   "execution_count": 1,
   "metadata": {},
   "outputs": [
    {
     "data": {
      "image/png": "[encoded data removed]",
      "text/plain": [
       "<Figure size 432x288 with 1 Axes>"
      ]
     },
     "metadata": {},
     "output_type": "display_data"
    }
   ],
   "source": [
    "import networkx as nx\n",
    "import matplotlib.pyplot as plt # pour les représentations graphiques\n",
    "\n",
    "def graph_non_oriente():\n",
    "    G = nx.Graph()\n",
    "\n",
    "# Ajout des noeuds nommés\n",
    "    G.add_node(\"Dakar\")\n",
    "    G.add_node(\"Thies\")\n",
    "    G.add_node(\"Louga\")\n",
    "    G.add_node(\"Matam\")\n",
    "    G.add_node(\"Diourbel\")\n",
    "    G.add_node(\"Fatick\")\n",
    "    G.add_node(\"Kaolack\")\n",
    "    G.add_node(\"Kaffrine\")\n",
    "    G.add_node(\"St-Louis\")\n",
    "    \n",
    "# Ajout des arêtes\n",
    "    G.add_edge(\"Dakar\", \"Thies\")\n",
    "    G.add_edge(\"Thies\", \"Louga\")\n",
    "    G.add_edge(\"Matam\", \"Louga\")\n",
    "    G.add_edge(\"Matam\", \"Kaffrine\")\n",
    "    G.add_edge(\"Diourbel\", \"Fatick\")\n",
    "    G.add_edge(\"Kaolack\", \"Fatick\")\n",
    "    G.add_edge(\"Kaolack\", \"Kaffrine\")\n",
    "    G.add_edge(\"St-Louis\", \"Matam\")\n",
    "    G.add_edge(\"Thies\", \"Diourbel\")\n",
    "    \n",
    "    return G\n",
    "\n",
    "# création du graph\n",
    "G =graph_non_oriente()\n",
    "\n",
    "# Représenation graphique\n",
    "nx.draw(G, with_labels=True) # Il s'agit du graphe et non d'une carte!\n",
    "\n",
    "# enregistrer l'image comme png\n",
    "plt.savefig(\"graphe_non_oriente.png\")\n",
    "\n",
    "# afficher\n",
    "plt.show()"
   ]
  },
  {
   "cell_type": "markdown",
   "metadata": {},
   "source": [
    "### Graphe oriente"
   ]
  },
  {
   "cell_type": "code",
   "execution_count": 2,
   "metadata": {},
   "outputs": [
    {
     "data": {
      "image/png": "[encoded data removed]",
      "text/plain": [
       "<Figure size 432x288 with 1 Axes>"
      ]
     },
     "metadata": {},
     "output_type": "display_data"
    }
   ],
   "source": [
    "import matplotlib.pyplot as plt\n",
    "#pour le calcul\n",
    "import numpy as np\n",
    "#pour le réseau\n",
    "import networkx as nx\n",
    "%matplotlib inline\n",
    "\n",
    "def graph_oriente():\n",
    "    #instancier le graph\n",
    "    G = nx.DiGraph(directed=True)\n",
    "\n",
    "# Ajout des noeuds nommés\n",
    "    G.add_node(\"Dakar\")\n",
    "    G.add_node(\"Thies\")\n",
    "    G.add_node(\"Louga\")\n",
    "    G.add_node(\"Matam\")\n",
    "    G.add_node(\"Diourbel\")\n",
    "    G.add_node(\"Kaffrine\")\n",
    "    G.add_node(\"St-Louis\")\n",
    "    \n",
    "# Ajout des arêtes\n",
    "    G.add_edge(\"Dakar\", \"Thies\")\n",
    "    G.add_edge(\"Thies\", \"Dakar\")\n",
    "    G.add_edge(\"Thies\", \"Louga\")\n",
    "    G.add_edge(\"Thies\", \"Diourbel\")\n",
    "    G.add_edge(\"Diourbel\", \"Kaffrine\")\n",
    "    G.add_edge(\"Louga\", \"Matam\")\n",
    "    G.add_edge(\"Matam\", \"Kaffrine\")\n",
    "    G.add_edge(\"Louga\", \"St-Louis\")\n",
    "    \n",
    "    \n",
    "    return G\n",
    "    \n",
    "    \n",
    "    \n",
    "# création du graph\n",
    "G = graph_oriente()\n",
    "\n",
    "# dessiner le graph en affichant les labels des noeuds\n",
    "nx.draw(G, with_labels=True)\n",
    "\n",
    "# enregistrer l'image comme png\n",
    "plt.savefig(\"graphe_oriente.png\")\n",
    "# afficher\n",
    "plt.show()"
   ]
  },
  {
   "cell_type": "markdown",
   "metadata": {},
   "source": [
    "<h2><u>Question 5:</u></h2><br></br>Implementez une methode permettant d'extraire le chemin entre deux sommets\n"
   ]
  },
  {
   "cell_type": "code",
   "execution_count": 3,
   "metadata": {},
   "outputs": [],
   "source": [
    "def existence_chemin(G, départ=None, arrivée=None):\n",
    "    \"\"\" On va commencer par créer une première fonction booléene pour vérifier l'existence d'un chemin \"\"\"\n",
    "    # On va utiliser ici les files\n",
    "    profondeur = 0\n",
    "    f = [départ]\n",
    "    node = G.nodes[départ]\n",
    "    node[\"visited\"] =  True\n",
    "    #TANT QUE la file est non vide\n",
    "    while f:\n",
    "        #s = f.defiler();\n",
    "        s = f.pop()\n",
    "        #POUR TOUT voisin t de s dans G\n",
    "        for t in G.neighbors(s):\n",
    "            node = G.nodes[t]            \n",
    "            if t == arrivée:\n",
    "                return True\n",
    "            #SI t non marqué\n",
    "            elif not(node.get(\"visited\")):\n",
    "                #f.enfiler(t);\n",
    "                f.insert(0, t)\n",
    "                #marquer(t);\n",
    "                # marquer le sommet s\n",
    "                node[\"visited\"] = True\n",
    "    return False"
   ]
  },
  {
   "cell_type": "code",
   "execution_count": 4,
   "metadata": {},
   "outputs": [],
   "source": [
    "# On implemente la fonction pour la recherche d'un chemin\n",
    "def recherche_chemin(graph, start=None, end=None, path=[]):\n",
    "        path = path + [start]\n",
    "        if start == end:\n",
    "            return path\n",
    "        if start == None:\n",
    "            return None\n",
    "        shortest = None\n",
    "        for node in graph[start]:\n",
    "            if node not in path:\n",
    "                newpath = recherche_chemin(graph, node, end, path)\n",
    "                if newpath:\n",
    "                    if not shortest or len(newpath) < len(shortest):\n",
    "                        shortest = newpath\n",
    "        return shortest"
   ]
  },
  {
   "cell_type": "code",
   "execution_count": 5,
   "metadata": {},
   "outputs": [
    {
     "name": "stdout",
     "output_type": "stream",
     "text": [
      "Le chemin qui va de Dakar à Kaffrine est: \n",
      "['Dakar', 'Thies', 'Diourbel', 'Kaffrine']\n",
      "======================================================================\n",
      "Il n'existe pas de chemin qui va de Kaffrine to Matam\n"
     ]
    }
   ],
   "source": [
    "# On repart d'un graphe orienté\n",
    "G = graph_oriente()\n",
    "\n",
    "# Application\n",
    "noeud_1 = \"Dakar\"\n",
    "noeud_2 = \"Kaffrine\"\n",
    "noeud_3 = \"Matam\"\n",
    "\n",
    "# Exemple 1\n",
    "if existence_chemin(G, noeud_1, noeud_2) == True:\n",
    "    print(\"Le chemin qui va de %s à %s est: \" % (noeud_1,noeud_2)) \n",
    "    print(recherche_chemin(G, noeud_1, noeud_2))\n",
    "else:\n",
    "      print(\"Il n'existe pas de chemin qui va de %s to %s\" % (noeud_2,noeud_3)) \n",
    "        \n",
    "print(\"======================================================================\")\n",
    "        \n",
    "# Exemple 2\n",
    "if existence_chemin(G, noeud_2, noeud_3) == True:\n",
    "    print(\"Le chemin qui va de %s à %s est: \" % (noeud_2,noeud_3)) \n",
    "    print(recherche_chemin(G, noeud_2, noeud_3))\n",
    "else:\n",
    "    print(\"Il n'existe pas de chemin qui va de %s to %s\" % (noeud_2,noeud_3)) "
   ]
  },
  {
   "cell_type": "markdown",
   "metadata": {},
   "source": [
    "<h2><u>Question 6:</u></h2><br></br>Implementez une methode permettant d'extraire une chaine entre deux sommets\n"
   ]
  },
  {
   "cell_type": "code",
   "execution_count": 6,
   "metadata": {},
   "outputs": [
    {
     "data": {
      "text/plain": [
       "['Dakar', 'Thies', 'Louga', 'Matam', 'Kaffrine']"
      ]
     },
     "execution_count": 6,
     "metadata": {},
     "output_type": "execute_result"
    }
   ],
   "source": [
    "# On part d'un graphe non orienté\n",
    "G = graph_non_oriente()\n",
    "\n",
    "def recherche_chaine(graph, start, end, path=[]):\n",
    "        path = path + [start]\n",
    "        if start == end:\n",
    "            return path\n",
    "        #if not graph.has_key(start):\n",
    "            #return None\n",
    "        for node in graph[start]:\n",
    "            if node not in path:\n",
    "                newpath = recherche_chaine(graph, node, end, path)\n",
    "                if newpath: return newpath\n",
    "        return None\n",
    "    \n",
    "recherche_chaine(G, 'Dakar', 'Kaffrine')"
   ]
  },
  {
   "cell_type": "markdown",
   "metadata": {},
   "source": [
    "<h2><u>Question 7:</u></h2><br></br>Implementez une methode permettant rechercher la presence d'un cycle\n"
   ]
  },
  {
   "cell_type": "code",
   "execution_count": 8,
   "metadata": {},
   "outputs": [
    {
     "name": "stdout",
     "output_type": "stream",
     "text": [
      "Présence d'un cycle\n",
      "-------------------\n",
      "True\n",
      "\n",
      "Pour rappel: Forme du graphe\n",
      "----------------------------\n"
     ]
    },
    {
     "data": {
      "image/png": "[encoded data removed]",
      "text/plain": [
       "<Figure size 432x288 with 1 Axes>"
      ]
     },
     "metadata": {},
     "output_type": "display_data"
    }
   ],
   "source": [
    "def recherche_cycle(G, s):\n",
    "    # marquer le sommet s\n",
    "    node = G.nodes[s]\n",
    "    node[\"visited\"] = True\n",
    "    # POUR TOUT sommet t voisin du sommet s\n",
    "    for t in G.neighbors(s):\n",
    "        node = G.nodes[t]\n",
    "        # SI t n'est pas marqué ALORS\n",
    "        if not(node.get(\"visited\")):\n",
    "            recherche_cycle(G, t)\n",
    "        else:\n",
    "            # si déjà visité c'est un cycle\n",
    "            return True\n",
    "    return False\n",
    "\n",
    "print(\"Présence d'un cycle\")\n",
    "print(\"-------------------\")\n",
    "print(recherche_cycle(G, \"Dakar\"))\n",
    "    \n",
    "print(\"\\nPour rappel: Forme du graphe\")\n",
    "print(  \"----------------------------\")\n",
    "nx.draw(G, with_labels=True, pos=nx.spring_layout(G))"
   ]
  },
  {
   "cell_type": "markdown",
   "metadata": {},
   "source": [
    "<h2><u>Question 8:</u></h2><br></br>Implementez une methode permettant de recherche la presence d'un circuit\n"
   ]
  },
  {
   "cell_type": "code",
   "execution_count": 9,
   "metadata": {},
   "outputs": [
    {
     "name": "stdout",
     "output_type": "stream",
     "text": [
      "Présence d'un circuit\n",
      "-------------------\n",
      "False\n",
      "\n",
      "Pour rappel: Forme du graphe\n",
      "----------------------------\n"
     ]
    },
    {
     "data": {
      "image/png": "[encoded data removed]",
      "text/plain": [
       "<Figure size 432x288 with 1 Axes>"
      ]
     },
     "metadata": {},
     "output_type": "display_data"
    }
   ],
   "source": [
    "G = graph_oriente()\n",
    "\n",
    "def recherche_circuit(G, s):\n",
    "    # marquer le sommet s\n",
    "    noeud = G.nodes[s]\n",
    "    noeud[\"visited\"] =  True\n",
    "    # POUR TOUT sommet t voisin du sommet s\n",
    "    for t in G.neighbors(s):\n",
    "        noeud = G.nodes[t]\n",
    "        # SI t n'est pas marqué ALORS\n",
    "        if not(noeud.get(\"visited\")):\n",
    "            recherche_circuit(G, t)\n",
    "        else:\n",
    "            # si déjà visité c'est un cycle\n",
    "            return True\n",
    "    return False\n",
    "\n",
    "print(\"Présence d'un circuit\")\n",
    "print(\"-------------------\")\n",
    "print(recherche_circuit(G, \"Thies\"))\n",
    "    \n",
    "print(\"\\nPour rappel: Forme du graphe\")\n",
    "print(  \"----------------------------\")\n",
    "nx.draw(G, with_labels=True, pos=nx.spring_layout(G))"
   ]
  }
 ],
 "metadata": {
  "kernelspec": {
   "display_name": "Python 3",
   "language": "python",
   "name": "python3"
  },
  "language_info": {
   "codemirror_mode": {
    "name": "ipython",
    "version": 3
   },
   "file_extension": ".py",
   "mimetype": "text/x-python",
   "name": "python",
   "nbconvert_exporter": "python",
   "pygments_lexer": "ipython3",
   "version": "3.7.6"
  }
 },
 "nbformat": 4,
 "nbformat_minor": 4
}
