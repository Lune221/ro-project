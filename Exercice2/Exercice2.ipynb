{
 "cells": [
  {
   "cell_type": "markdown",
   "metadata": {},
   "source": [
    "<center><h1>Projet de Recherches Opérationnelles</h1></center>"
   ]
  },
  {
   "cell_type": "markdown",
   "metadata": {},
   "source": [
    "<b>Alioune SARR</b><br>\n",
    "<b>Papa Omar DIOP</b>"
   ]
  },
  {
   "cell_type": "markdown",
   "metadata": {},
   "source": [
    "## Exercice 2: Plus court chemin"
   ]
  },
  {
   "cell_type": "markdown",
   "metadata": {},
   "source": [
    "### 1. Écrire des procédures permettant de manipuler le graphe (tester si un arc existe, obtenir la valuation d'un arc, retirer un arc du graphe, imprimer la matrice des valuations)"
   ]
  },
  {
   "cell_type": "code",
   "execution_count": 92,
   "metadata": {},
   "outputs": [],
   "source": [
    "graphe_test_1 = {\n",
    "    'K': {\n",
    "        'M': 4,\n",
    "        'E': 1,\n",
    "    },\n",
    "    'M': {\n",
    "        'E': 2,\n",
    "        'H': 2\n",
    "    },\n",
    "    'E': {\n",
    "        'M': 1,\n",
    "        'H': 3,\n",
    "        'F': 1\n",
    "    },\n",
    "    'H': {\n",
    "        'F': 3\n",
    "    },\n",
    "    'F': {\n",
    "        'H': 1,\n",
    "    },\n",
    "    'S': {\n",
    "        'H': 1,\n",
    "        'F': 2\n",
    "    }\n",
    "}\n",
    "graphe_test_2 = {\n",
    "    'A':{\n",
    "        'B':15,\n",
    "        'C':4\n",
    "    },\n",
    "    'B':{\n",
    "        'E':5\n",
    "    },\n",
    "    'C':{\n",
    "        'E':11,\n",
    "        'D':2\n",
    "    },\n",
    "    'D':{\n",
    "        'E':3\n",
    "    },\n",
    "    'E':{\n",
    "        \n",
    "    }\n",
    "}"
   ]
  },
  {
   "cell_type": "markdown",
   "metadata": {},
   "source": [
    "###### a. Procédure permettant de tester si un arc existe"
   ]
  },
  {
   "cell_type": "code",
   "execution_count": 93,
   "metadata": {},
   "outputs": [
    {
     "data": {
      "text/plain": [
       "True"
      ]
     },
     "execution_count": 93,
     "metadata": {},
     "output_type": "execute_result"
    }
   ],
   "source": [
    "\"\"\"\n",
    "Entrées de la fonction: graphe, s1, s2\n",
    "Sortie : boolean => True : l'arc existe, False: l'arc n'existe pas\n",
    "\"\"\"\n",
    "\n",
    "def arc_existe(graphe, s1, s2):\n",
    "    for sommet, arcs in graphe.items():\n",
    "        if (sommet == s1 or sommet == s2) and (s1 in list(arcs.keys()) or s2 in list(arcs.keys())):\n",
    "            return True\n",
    "    return False\n",
    "\n",
    "arc_existe(graphe_test_1, 'H', 'M')"
   ]
  },
  {
   "cell_type": "markdown",
   "metadata": {},
   "source": [
    "###### b. Obtenir la valuation d'un arc"
   ]
  },
  {
   "cell_type": "code",
   "execution_count": 94,
   "metadata": {},
   "outputs": [
    {
     "name": "stdout",
     "output_type": "stream",
     "text": [
      "5\n"
     ]
    }
   ],
   "source": [
    "def valuation(graphe, s1, s2):\n",
    "    for sommet, arcs in graphe.items():\n",
    "        if (sommet == s1 or sommet == s2) and (s1 in list(arcs.keys()) or s2 in list(arcs.keys())):\n",
    "            try:\n",
    "                return arcs[s1]\n",
    "            except KeyError:\n",
    "                return arcs[s2]\n",
    "    return None\n",
    "\n",
    "print(valuation(graphe_test_2, 'B', 'E'))"
   ]
  },
  {
   "cell_type": "markdown",
   "metadata": {},
   "source": [
    "##### c. Retirer un arc du graphe"
   ]
  },
  {
   "cell_type": "code",
   "execution_count": 61,
   "metadata": {},
   "outputs": [
    {
     "name": "stdout",
     "output_type": "stream",
     "text": [
      "{'K': {'M': 4, 'E': 1}, 'M': {'H': 2}, 'E': {'M': 1, 'H': 3, 'F': 1}, 'H': {'F': 3}, 'F': {'H': 1}, 'S': {'H': 1, 'F': 2}}\n"
     ]
    }
   ],
   "source": [
    "def retirer(graphe, s1, s2):\n",
    "    for sommet, arcs in graphe.items():\n",
    "        if sommet == s1 and s2 in list(arcs.keys()):\n",
    "            del arcs[s2]\n",
    "            return graphe\n",
    "    return graphe\n",
    "\n",
    "print(retirer(graphe_test, 'M', 'E'))"
   ]
  },
  {
   "cell_type": "markdown",
   "metadata": {},
   "source": [
    "##### d. Imprimer matrice de valuation"
   ]
  },
  {
   "cell_type": "markdown",
   "metadata": {},
   "source": [
    "Question incomprie."
   ]
  },
  {
   "cell_type": "markdown",
   "metadata": {},
   "source": [
    "### 2. Initialiser trois structures de données permettant de stocker les sommets noirs (initialement, aucun), les sommets gris (initialement, aucun), les autres blancs (initialement, tous)."
   ]
  },
  {
   "cell_type": "raw",
   "metadata": {},
   "source": [
    "Pour se faire, nous allons utiliser des 'sets' qui sont enfait des listes qui ne permettent pas la duplications des éléments.\n",
    "Ainsi, nous aurons:"
   ]
  },
  {
   "cell_type": "code",
   "execution_count": 187,
   "metadata": {},
   "outputs": [
    {
     "name": "stdout",
     "output_type": "stream",
     "text": [
      "Deux ajouts de sommets gris S :  {'S'}\n",
      "Suppression d'un sommet du set :  set()\n"
     ]
    }
   ],
   "source": [
    "sommets_blancs = set()\n",
    "sommets_gris = set()\n",
    "sommets_noirs = set()\n",
    "\n",
    "# Pour ajouter un sommet au set de sommets gris, il suffit de faire\n",
    "sommets_gris.add(\"S\")\n",
    "# Ajoutons encore le même sommet:\n",
    "sommets_gris.add(\"S\")\n",
    "# Affichons le résultat\n",
    "print(\"Deux ajouts de sommets gris S : \", sommets_gris)\n",
    "\n",
    "# Pour enlever un sommet du set, il faut faire:\n",
    "sommets_gris.remove(\"S\")\n",
    "print(\"Suppression d'un sommet du set : \", sommets_gris)"
   ]
  },
  {
   "cell_type": "markdown",
   "metadata": {},
   "source": [
    "### 3. Initialiser deux structures de données permettant, pour chaque sommet S, de stocker la longueur du plus court chemin connu de X à S, ainsi que le prédécesseur de S dans le plus court chemin de X à S"
   ]
  },
  {
   "cell_type": "markdown",
   "metadata": {},
   "source": [
    "###### ii. Structure de données pour stocker la longueur du plus cours chemin de X à S:"
   ]
  },
  {
   "cell_type": "raw",
   "metadata": {},
   "source": [
    "Pour se faire, nous utiliserons un dictionnaire clé/valeur.\n",
    "La clé etant le sommet en question et la valeur correspondra au plus court chemin de la source au sommet."
   ]
  },
  {
   "cell_type": "code",
   "execution_count": 176,
   "metadata": {},
   "outputs": [
    {
     "name": "stdout",
     "output_type": "stream",
     "text": [
      "{'S': 10}\n"
     ]
    }
   ],
   "source": [
    "plus_court_chemin = {\n",
    "    \n",
    "}\n",
    "# Pour ajouter un sommet s et une distance d, nous faisons de la manière suivante\n",
    "# Exemple\n",
    "s = \"S\"\n",
    "d = 10\n",
    "plus_court_chemin[s] = d\n",
    "print(plus_court_chemin)"
   ]
  },
  {
   "cell_type": "markdown",
   "metadata": {},
   "source": [
    "###### i. Structure de données pour stocker le prédecesseur de S:"
   ]
  },
  {
   "cell_type": "raw",
   "metadata": {},
   "source": [
    "Pour se faire, nous utiliserons un dictionnaire clé/valeur.\n",
    "La clé etant le sommet en question et la valeur correspondra à sont prédecesseur."
   ]
  },
  {
   "cell_type": "code",
   "execution_count": 136,
   "metadata": {},
   "outputs": [
    {
     "name": "stdout",
     "output_type": "stream",
     "text": [
      "{'S': 'P'}\n"
     ]
    }
   ],
   "source": [
    "predecesseurs = {\n",
    "    \n",
    "}\n",
    "# Pour ajouter un prédecesseur \"P\" d'un sommet donné \"S\", nous faisons de la manière suivante:\n",
    "# Exemple\n",
    "sommet = \"S\"\n",
    "predecesseur = \"P\"\n",
    "predecesseurs[sommet] = predecesseur\n",
    "print(predecesseurs)"
   ]
  },
  {
   "cell_type": "markdown",
   "metadata": {},
   "source": [
    "### 4. Donner l'arbre des plus courts chemin d'un graphe de votre choix à partir d'un sommet source."
   ]
  },
  {
   "cell_type": "code",
   "execution_count": 180,
   "metadata": {},
   "outputs": [
    {
     "name": "stdout",
     "output_type": "stream",
     "text": [
      "Par exemple\n",
      "Pour la liste de sommets gris [{'F', 'H', 'M'}] et le dictionnaire de plus cours chemin [{'M': 3, 'H': 2, 'F': 4}] \n",
      "Nous avons la sortie suivant: H\n",
      "\n",
      "---------------------\n",
      "\n",
      "Par exemple:\n",
      "Prenons le graphe :  {'K': {'M': 4, 'E': 1}, 'M': {'E': 2, 'H': 2}, 'E': {'M': 1, 'H': 3, 'F': 1}, 'H': {'F': 3}, 'F': {'H': 1}, 'S': {'H': 1, 'F': 2}}\n",
      "Nous aurons la liste de sommets :  {'H', 'M', 'K', 'S', 'F', 'E'}\n"
     ]
    }
   ],
   "source": [
    "def get_min(liste_de_gris, distances):\n",
    "    \"\"\"\n",
    "    Cette fonction nous permet de sélectionner la sommet avec la distance minimale dans la liste de sommets découverts\n",
    "    à chaque étape de l'algorithme\n",
    "    \"\"\"\n",
    "    dist_min = sum(distances.values()) + 1\n",
    "    sommet_min = \"\"\n",
    "    \n",
    "    for sommet, distance in distances.items():\n",
    "        if sommet in liste_de_gris and distance < dist_min:\n",
    "            dist_min = distance\n",
    "            sommet_min = sommet\n",
    "    \n",
    "    return sommet_min\n",
    "\n",
    "print(\"Par exemple\")\n",
    "print(\"Pour la liste de sommets gris [{0}] et le dictionnaire de plus cours chemin [{1}] \".format(set([\"M\", \"H\", \"F\"]), {'M': 3, 'H': 2,'F': 4}))\n",
    "print(\"Nous avons la sortie suivant:\", get_min(set([\"M\", \"H\", \"F\"]) , {'M': 3, 'H': 2,'F': 4}))\n",
    "\n",
    "\n",
    "print(\"\\n---------------------\\n\")\n",
    "\n",
    "def get_sommets_blancs(graph):\n",
    "    \"\"\"\n",
    "    Cette fonction renvoie, étant donné un graphe, un set de tous les sommets.\n",
    "    Cet set sera utilisé pour initialiser les sommets blancs.\n",
    "    \"\"\"\n",
    "    sommets_set = set()\n",
    "    for sommet, arcs in graph.items():\n",
    "        sommets_set.add(sommet)\n",
    "        for subsommet, subarc in arcs.items():\n",
    "            sommets_set.add(subsommet)\n",
    "    return sommets_set\n",
    "print(\"Par exemple:\")\n",
    "print(\"Prenons le graphe : \", graphe_test_1)\n",
    "print(\"Nous aurons la liste de sommets : \", get_sommets_blancs(graphe_test_1))"
   ]
  },
  {
   "cell_type": "code",
   "execution_count": 190,
   "metadata": {},
   "outputs": [],
   "source": [
    "def dijkstra(graph, source):\n",
    "    \"\"\"\n",
    "    Algorithme de Dijkstra pour la recherche du plus court chemin.\n",
    "    Entrées : graph, source\n",
    "    Sortie : [plus_courts_chemins, predecesseurs]\n",
    "    \"\"\"\n",
    "    # Initialisation de l'algorithme\n",
    "\n",
    "    # Structure de données pour stocker le prédecesseur de S:\n",
    "    predecesseurs = {}\n",
    "    \n",
    "    # Structure de données pour stocker la longueur du plus cours chemin de X à S:\n",
    "    plus_court_chemin = {}\n",
    "    sommets_blancs = get_sommets_blancs(graph) # On met tous les sommets du graphe dans la liste de sommets blanc\n",
    "    sommets_gris = set()\n",
    "    sommets_noirs = set()\n",
    "    \n",
    "    # On commence d'emblée par notre sommet de départ\n",
    "    plus_court_chemin[source] = 0  # La distance par rapport à la source est 0\n",
    "    sommets_blancs.remove(source)  # On enléve la source dans la liste de sommets non découverts\n",
    "    sommets_gris.add(source)  # On ajoute la source dans la liste de sommets découverts\n",
    "\n",
    "    # Fin de l'étape d'initialisation\n",
    "    print(\"Les sommets blancs : \", sommets_blancs)\n",
    "    print(\"Les sommets gris : \", sommets_gris)\n",
    "    print(\"Les sommets noirs : \", sommets_noirs)\n",
    "    print(\"Les plus courts chemins : \", plus_court_chemin)\n",
    "    print(\"-----------------Debut de la recherhce------------------\\n\")\n",
    "    \n",
    "    etape = 1\n",
    "    while len(sommets_gris) > 0:\n",
    "        print(\"-----------------Debut de l'étape {}-------------------\".format(etape))\n",
    "\n",
    "        print(\"Les sommets gris : \", sommets_gris, \"distances: \", plus_court_chemin)\n",
    "        \n",
    "        t = get_min(sommets_gris, plus_court_chemin) # On prend le sommet gris avec la distance minimale\n",
    "        sommets_noirs.add(t)\n",
    "        sommets_gris.remove(t)\n",
    "        print(\"On traite le sommet \" + str(t))\n",
    "        for voisin in graph[t]: # Pour chaque voisin de ce sommet, voisin étant lui même un sommet\n",
    "\n",
    "            print(graph[t], \"voisins de \", t)\n",
    "                        \n",
    "            # Si le voisin n'est pas dans la liste de distances calculées, on l'ajoute dedans\n",
    "            # Aussi si la distance nouvellement caculé est inférieur à celle déjà calculée, on met à jour cette distance\n",
    "            nouvelle_distance = plus_court_chemin[t] + graph[t][voisin]\n",
    "            print(\"La distance de \", t, \"à \", voisin, \"est : \", nouvelle_distance)\n",
    "            \n",
    "            if(voisin not in plus_court_chemin or nouvelle_distance < plus_court_chemin[voisin]):\n",
    "                sommets_gris.add(voisin)  # On ajoute ce voisin dans la liste des sommets découverts\n",
    "                if voisin in sommets_blancs:\n",
    "                    sommets_blancs.remove(voisin)  # On enlève ce voisin dans la liste des sommets non découverts\n",
    "                plus_court_chemin[voisin] = nouvelle_distance\n",
    "                predecesseurs[voisin] = t\n",
    "                # On découvre les voisins de ce sommet à on l'ajoute à la liste de sommets gris\n",
    "                # print(\"Met à jour le sommet \" + str(voisin) + \" avec la distance : \" + str(nouvelle_distance))\n",
    "        \n",
    "        print(\"-----------------Fin de l'étape {}---------------------\".format(etape))\n",
    "        etape += 1\n",
    "    print(\"\\n-----------------Fin de l'Algorithme de Dijkstra-----------------\")\n",
    "    return [plus_court_chemin, predecesseurs]\n"
   ]
  },
  {
   "cell_type": "code",
   "execution_count": 191,
   "metadata": {},
   "outputs": [
    {
     "name": "stdout",
     "output_type": "stream",
     "text": [
      "Les sommets blancs :  {'H', 'M', 'S', 'F', 'E'}\n",
      "Les sommets gris :  {'K'}\n",
      "Les sommets noirs :  set()\n",
      "Les plus courts chemins :  {'K': 0}\n",
      "-----------------Debut de la recherhce------------------\n",
      "\n",
      "-----------------Debut de l'étape 1-------------------\n",
      "Les sommets gris :  {'K'} distances:  {'K': 0}\n",
      "On traite le sommet K\n",
      "{'M': 4, 'E': 1} voisins de  K\n",
      "La distance de  K à  M est :  4\n",
      "{'M': 4, 'E': 1} voisins de  K\n",
      "La distance de  K à  E est :  1\n",
      "-----------------Fin de l'étape 1---------------------\n",
      "-----------------Debut de l'étape 2-------------------\n",
      "Les sommets gris :  {'E', 'M'} distances:  {'K': 0, 'M': 4, 'E': 1}\n",
      "On traite le sommet E\n",
      "{'M': 1, 'H': 3, 'F': 1} voisins de  E\n",
      "La distance de  E à  M est :  2\n",
      "{'M': 1, 'H': 3, 'F': 1} voisins de  E\n",
      "La distance de  E à  H est :  4\n",
      "{'M': 1, 'H': 3, 'F': 1} voisins de  E\n",
      "La distance de  E à  F est :  2\n",
      "-----------------Fin de l'étape 2---------------------\n",
      "-----------------Debut de l'étape 3-------------------\n",
      "Les sommets gris :  {'F', 'H', 'M'} distances:  {'K': 0, 'M': 2, 'E': 1, 'H': 4, 'F': 2}\n",
      "On traite le sommet M\n",
      "{'E': 2, 'H': 2} voisins de  M\n",
      "La distance de  M à  E est :  4\n",
      "{'E': 2, 'H': 2} voisins de  M\n",
      "La distance de  M à  H est :  4\n",
      "-----------------Fin de l'étape 3---------------------\n",
      "-----------------Debut de l'étape 4-------------------\n",
      "Les sommets gris :  {'F', 'H'} distances:  {'K': 0, 'M': 2, 'E': 1, 'H': 4, 'F': 2}\n",
      "On traite le sommet F\n",
      "{'H': 1} voisins de  F\n",
      "La distance de  F à  H est :  3\n",
      "-----------------Fin de l'étape 4---------------------\n",
      "-----------------Debut de l'étape 5-------------------\n",
      "Les sommets gris :  {'H'} distances:  {'K': 0, 'M': 2, 'E': 1, 'H': 3, 'F': 2}\n",
      "On traite le sommet H\n",
      "{'F': 3} voisins de  H\n",
      "La distance de  H à  F est :  6\n",
      "-----------------Fin de l'étape 5---------------------\n",
      "\n",
      "-----------------Fin de l'Algorithme de Dijkstra-----------------\n",
      "\n",
      "Les plus courts chemins :{'K': 0, 'M': 2, 'E': 1, 'H': 3, 'F': 2}\n",
      "\n",
      "Les predecesseurs: {'M': 'E', 'E': 'K', 'H': 'F', 'F': 'E'}\n"
     ]
    }
   ],
   "source": [
    "#Sortie de l'algorithme\n",
    "\n",
    "sorties = dijkstra(graphe_test_1,'K')\n",
    "\n",
    "print(\"\\nLes plus courts chemins :\" + str(sorties[0]))\n",
    "print(\"\\nLes predecesseurs: \" + str(sorties[1]))"
   ]
  }
 ],
 "metadata": {
  "kernelspec": {
   "display_name": "Python 3",
   "language": "python",
   "name": "python3"
  },
  "language_info": {
   "codemirror_mode": {
    "name": "ipython",
    "version": 3
   },
   "file_extension": ".py",
   "mimetype": "text/x-python",
   "name": "python",
   "nbconvert_exporter": "python",
   "pygments_lexer": "ipython3",
   "version": "3.7.6"
  }
 },
 "nbformat": 4,
 "nbformat_minor": 4
}
